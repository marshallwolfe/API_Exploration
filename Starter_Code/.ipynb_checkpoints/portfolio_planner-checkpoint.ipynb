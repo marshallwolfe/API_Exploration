{
 "cells": [
  {
   "cell_type": "markdown",
   "metadata": {},
   "source": [
    "# Retirement Planner\n",
    "\n",
    "---\n",
    "\n",
    "## Environment Setup"
   ]
  },
  {
   "cell_type": "code",
   "execution_count": 2,
   "metadata": {},
   "outputs": [],
   "source": [
    "# Import libraries and dependencies\n",
    "import numpy as np\n",
    "import pandas as pd\n",
    "import os\n",
    "from datetime import datetime, timedelta\n",
    "import matplotlib.pyplot as plt\n",
    "import alpaca_trade_api as tradeapi\n",
    "%matplotlib inline"
   ]
  },
  {
   "cell_type": "code",
   "execution_count": 3,
   "metadata": {},
   "outputs": [],
   "source": [
    "# Set the random seed for results reproducibility (for testing purposes only)\n",
    "np.random.seed(42)"
   ]
  },
  {
   "cell_type": "markdown",
   "metadata": {},
   "source": [
    "---\n",
    "\n",
    "## Portfolio Planner\n",
    "\n",
    "In this activity, you will use the Alpaca API to grab historical data for a `60/40` portfolio using `SPY` to represent the stock portion and `AGG` to represent the bonds."
   ]
  },
  {
   "cell_type": "code",
   "execution_count": 4,
   "metadata": {},
   "outputs": [],
   "source": [
    "# Load .env enviroment variables\n",
    "from dotenv import load_dotenv\n",
    "load_dotenv()\n",
    "\n",
    "# Set Alpaca API key and secret\n",
    "alpaca_api_key = os.getenv(\"ALPACA_API_KEY\")\n",
    "alpaca_secret_key = os.getenv(\"ALPACA_SECRET_KEY\")\n",
    "\n",
    "# Create the Alpaca API object\n",
    "api = tradeapi.REST(\n",
    "    alpaca_api_key,\n",
    "    alpaca_secret_key,\n",
    "    api_version=\"v2\")"
   ]
  },
  {
   "cell_type": "markdown",
   "metadata": {},
   "source": [
    "# Data Collection\n",
    "\n",
    "In this step, you will need to use the Alpaca api to fetch closing prices for the `SPY` and `AGG` tickers. Save the results as a pandas DataFrame"
   ]
  },
  {
   "cell_type": "code",
   "execution_count": 5,
   "metadata": {},
   "outputs": [],
   "source": [
    "# Subset your tickers, then pull returns data:\n",
    "# Set the ticker\n",
    "ticker = [\"SPY\", \"AGG\"]\n",
    "\n",
    "# Set timeframe to '1D'\n",
    "timeframe = \"1D\"\n",
    "\n",
    "# Set start and end datetimes of 1 year, between now and 365 days ago.\n",
    "start_date = pd.Timestamp('2019-01-01', tz='America/New_York').isoformat()\n",
    "end_date = pd.Timestamp('2019-12-31', tz='America/New_York').isoformat()\n",
    "\n",
    "# Get 1 year's worth of historical data for SPY and AGG\n",
    "df = api.get_barset(\n",
    "    ticker,\n",
    "    timeframe,\n",
    "    limit=None,\n",
    "    start=start_date,\n",
    "    end=end_date,\n",
    "    after=None,\n",
    "    until=None,\n",
    ").df\n",
    "\n",
    "# Drop unnecessary columns\n",
    "df = df.drop(\n",
    "    columns=['open', 'high', 'low', 'volume'],\n",
    "    level=1\n",
    ")"
   ]
  },
  {
   "cell_type": "code",
   "execution_count": 6,
   "metadata": {},
   "outputs": [
    {
     "data": {
      "text/html": [
       "<div>\n",
       "<style scoped>\n",
       "    .dataframe tbody tr th:only-of-type {\n",
       "        vertical-align: middle;\n",
       "    }\n",
       "\n",
       "    .dataframe tbody tr th {\n",
       "        vertical-align: top;\n",
       "    }\n",
       "\n",
       "    .dataframe thead tr th {\n",
       "        text-align: left;\n",
       "    }\n",
       "\n",
       "    .dataframe thead tr:last-of-type th {\n",
       "        text-align: right;\n",
       "    }\n",
       "</style>\n",
       "<table border=\"1\" class=\"dataframe\">\n",
       "  <thead>\n",
       "    <tr>\n",
       "      <th></th>\n",
       "      <th>AGG</th>\n",
       "      <th>SPY</th>\n",
       "    </tr>\n",
       "    <tr>\n",
       "      <th></th>\n",
       "      <th>close</th>\n",
       "      <th>close</th>\n",
       "    </tr>\n",
       "    <tr>\n",
       "      <th>time</th>\n",
       "      <th></th>\n",
       "      <th></th>\n",
       "    </tr>\n",
       "  </thead>\n",
       "  <tbody>\n",
       "    <tr>\n",
       "      <th>2019-01-02 00:00:00-05:00</th>\n",
       "      <td>106.585</td>\n",
       "      <td>249.89</td>\n",
       "    </tr>\n",
       "    <tr>\n",
       "      <th>2019-01-03 00:00:00-05:00</th>\n",
       "      <td>107.020</td>\n",
       "      <td>244.46</td>\n",
       "    </tr>\n",
       "    <tr>\n",
       "      <th>2019-01-04 00:00:00-05:00</th>\n",
       "      <td>106.695</td>\n",
       "      <td>252.41</td>\n",
       "    </tr>\n",
       "    <tr>\n",
       "      <th>2019-01-07 00:00:00-05:00</th>\n",
       "      <td>106.470</td>\n",
       "      <td>254.40</td>\n",
       "    </tr>\n",
       "    <tr>\n",
       "      <th>2019-01-08 00:00:00-05:00</th>\n",
       "      <td>106.420</td>\n",
       "      <td>256.65</td>\n",
       "    </tr>\n",
       "  </tbody>\n",
       "</table>\n",
       "</div>"
      ],
      "text/plain": [
       "                               AGG     SPY\n",
       "                             close   close\n",
       "time                                      \n",
       "2019-01-02 00:00:00-05:00  106.585  249.89\n",
       "2019-01-03 00:00:00-05:00  107.020  244.46\n",
       "2019-01-04 00:00:00-05:00  106.695  252.41\n",
       "2019-01-07 00:00:00-05:00  106.470  254.40\n",
       "2019-01-08 00:00:00-05:00  106.420  256.65"
      ]
     },
     "execution_count": 6,
     "metadata": {},
     "output_type": "execute_result"
    }
   ],
   "source": [
    "# Display sample data\n",
    "df.head()"
   ]
  },
  {
   "cell_type": "markdown",
   "metadata": {},
   "source": [
    "---\n",
    "\n",
    "## Monte Carlo Simulation\n",
    "\n",
    "In this step, you will run Monte Carlo Simulations for your portfolio to model portfolio performance at different retirement ages. \n",
    "\n",
    "Complete the following steps:\n",
    "\n",
    "1. Calculate the daily returns for the SPY and AGG closing prices.\n",
    "\n",
    "2. Calculate volatility for both the SPY and AGG closing prices.\n",
    "\n",
    "3. Find the last day's closing price for both stocks and save those as variables\n",
    "\n",
    "4. Run a Monte Carlo Simulation of at least `100` iterations and generate at least `30` years of closing prices\n",
    "\n",
    "**Hint:** There are `252` trading days per year, so the number of records to generate for each Monte Carlo run will be `252 days * 30 years`."
   ]
  },
  {
   "cell_type": "code",
   "execution_count": 7,
   "metadata": {},
   "outputs": [
    {
     "data": {
      "text/html": [
       "<div>\n",
       "<style scoped>\n",
       "    .dataframe tbody tr th:only-of-type {\n",
       "        vertical-align: middle;\n",
       "    }\n",
       "\n",
       "    .dataframe tbody tr th {\n",
       "        vertical-align: top;\n",
       "    }\n",
       "\n",
       "    .dataframe thead tr th {\n",
       "        text-align: left;\n",
       "    }\n",
       "\n",
       "    .dataframe thead tr:last-of-type th {\n",
       "        text-align: right;\n",
       "    }\n",
       "</style>\n",
       "<table border=\"1\" class=\"dataframe\">\n",
       "  <thead>\n",
       "    <tr>\n",
       "      <th></th>\n",
       "      <th>AGG</th>\n",
       "      <th>SPY</th>\n",
       "    </tr>\n",
       "    <tr>\n",
       "      <th></th>\n",
       "      <th>close</th>\n",
       "      <th>close</th>\n",
       "    </tr>\n",
       "    <tr>\n",
       "      <th>time</th>\n",
       "      <th></th>\n",
       "      <th></th>\n",
       "    </tr>\n",
       "  </thead>\n",
       "  <tbody>\n",
       "    <tr>\n",
       "      <th>2019-01-02 00:00:00-05:00</th>\n",
       "      <td>NaN</td>\n",
       "      <td>NaN</td>\n",
       "    </tr>\n",
       "    <tr>\n",
       "      <th>2019-01-03 00:00:00-05:00</th>\n",
       "      <td>0.004081</td>\n",
       "      <td>-0.021730</td>\n",
       "    </tr>\n",
       "    <tr>\n",
       "      <th>2019-01-04 00:00:00-05:00</th>\n",
       "      <td>-0.003037</td>\n",
       "      <td>0.032521</td>\n",
       "    </tr>\n",
       "    <tr>\n",
       "      <th>2019-01-07 00:00:00-05:00</th>\n",
       "      <td>-0.002109</td>\n",
       "      <td>0.007884</td>\n",
       "    </tr>\n",
       "    <tr>\n",
       "      <th>2019-01-08 00:00:00-05:00</th>\n",
       "      <td>-0.000470</td>\n",
       "      <td>0.008844</td>\n",
       "    </tr>\n",
       "  </tbody>\n",
       "</table>\n",
       "</div>"
      ],
      "text/plain": [
       "                                AGG       SPY\n",
       "                              close     close\n",
       "time                                         \n",
       "2019-01-02 00:00:00-05:00       NaN       NaN\n",
       "2019-01-03 00:00:00-05:00  0.004081 -0.021730\n",
       "2019-01-04 00:00:00-05:00 -0.003037  0.032521\n",
       "2019-01-07 00:00:00-05:00 -0.002109  0.007884\n",
       "2019-01-08 00:00:00-05:00 -0.000470  0.008844"
      ]
     },
     "execution_count": 7,
     "metadata": {},
     "output_type": "execute_result"
    }
   ],
   "source": [
    "# Calculate the daily roi for the stocks\n",
    "daily_returns = df.pct_change()\n",
    "\n",
    "# Display sample data\n",
    "daily_returns.head()"
   ]
  },
  {
   "cell_type": "code",
   "execution_count": null,
   "metadata": {},
   "outputs": [],
   "source": []
  },
  {
   "cell_type": "code",
   "execution_count": 8,
   "metadata": {},
   "outputs": [
    {
     "name": "stdout",
     "output_type": "stream",
     "text": [
      "The mean daily return of SPY is 0.0010401250682146959.\n",
      "The mean daily return of AGG is 0.00021276976507473064.\n"
     ]
    }
   ],
   "source": [
    "# Use the `mean` function to calculate the mean of daily returns for `TLSA` and `SPHD`, respectively\n",
    "avg_daily_return_spy = daily_returns.mean()['SPY']['close']\n",
    "avg_daily_return_agg = daily_returns.mean()['AGG']['close']\n",
    "print(f\"The mean daily return of SPY is {avg_daily_return_spy}.\")\n",
    "print(f\"The mean daily return of AGG is {avg_daily_return_agg}.\")"
   ]
  },
  {
   "cell_type": "code",
   "execution_count": 9,
   "metadata": {},
   "outputs": [
    {
     "name": "stdout",
     "output_type": "stream",
     "text": [
      "The daily volatility of SPY is 0.007820053413439366.\n",
      "The daily volatility of AGG is 0.0020886019741764646.\n"
     ]
    }
   ],
   "source": [
    "# Compute daily volatility\n",
    "std_dev_daily_return_spy = daily_returns.std()['SPY']['close']\n",
    "std_dev_daily_return_agg = daily_returns.std()['AGG']['close']\n",
    "print(f\"The daily volatility of SPY is {std_dev_daily_return_spy}.\")\n",
    "print(f\"The daily volatility of AGG is {std_dev_daily_return_agg}.\")"
   ]
  },
  {
   "cell_type": "code",
   "execution_count": 10,
   "metadata": {},
   "outputs": [
    {
     "name": "stdout",
     "output_type": "stream",
     "text": [
      "The last closing price of SPY is 321.92.\n",
      "The last closing price of AGG is 112.37.\n"
     ]
    }
   ],
   "source": [
    "# Save the last day's closing price\n",
    "last_close_spy = df['SPY']['close'][-1]\n",
    "last_close_agg = df['AGG']['close'][-1]\n",
    "print(f\"The last closing price of SPY is {last_close_spy}.\")\n",
    "print(f\"The last closing price of AGG is {last_close_agg}.\")"
   ]
  },
  {
   "cell_type": "code",
   "execution_count": 11,
   "metadata": {},
   "outputs": [],
   "source": [
    "# Setup the Monte Carlo Parameters\n",
    "number_simulations = 500\n",
    "number_records = 252 * 30\n",
    "\n",
    "# Initialize empty DataFrame to hold simulated prices for each simulation\n",
    "simulated_price_df = pd.DataFrame()\n",
    "portfolio_cumulative_returns = pd.DataFrame()"
   ]
  },
  {
   "cell_type": "code",
   "execution_count": 12,
   "metadata": {},
   "outputs": [],
   "source": [
    "# Run the Monte Carlo Simulation 500 times\n",
    "for n in range(number_simulations):\n",
    "\n",
    "    # Initialize the simulated prices list with the last closing price of `SPY` and `AGG`\n",
    "    simulated_spy_prices = [last_close_spy]\n",
    "    simulated_agg_prices = [last_close_agg]\n",
    "    \n",
    "    # Simulate the returns for 252 * 30 days\n",
    "    for i in range(number_records):\n",
    "\n",
    "        # Calculate the simulated price using the last price within the list\n",
    "        simulated_spy_price = simulated_spy_prices[-1] * (1 + np.random.normal(avg_daily_return_spy, std_dev_daily_return_spy))\n",
    "        simulated_agg_price = simulated_agg_prices[-1] * (1 + np.random.normal(avg_daily_return_agg, std_dev_daily_return_agg))\n",
    "        \n",
    "        # Append the simulated price to the list\n",
    "        simulated_spy_prices.append(simulated_spy_price)\n",
    "        simulated_agg_prices.append(simulated_agg_price)\n",
    "    \n",
    "    # Append the simulated prices of each simulation to DataFrame\n",
    "    simulated_price_df[\"SPY prices\"] = pd.Series(simulated_spy_prices)\n",
    "    simulated_price_df[\"AGG prices\"] = pd.Series(simulated_agg_prices)\n",
    "    \n",
    "    # Calculate the daily returns of simulated prices\n",
    "    simulated_daily_returns = simulated_price_df.pct_change()\n",
    "    \n",
    "    # Set the portfolio weights (60% SPY; 40% AGG)\n",
    "    weights = [0.4, 0.6]\n",
    "\n",
    "    # Use the `dot` function with the weights to multiply weights with each column's simulated daily returns\n",
    "    portfolio_daily_returns = simulated_daily_returns.dot(weights)\n",
    "    \n",
    "    # Calculate the normalized, cumulative return series\n",
    "    portfolio_cumulative_returns[n] = (1 + portfolio_daily_returns.fillna(0)).cumprod()"
   ]
  },
  {
   "cell_type": "code",
   "execution_count": 14,
   "metadata": {},
   "outputs": [
    {
     "data": {
      "text/html": [
       "<div>\n",
       "<style scoped>\n",
       "    .dataframe tbody tr th:only-of-type {\n",
       "        vertical-align: middle;\n",
       "    }\n",
       "\n",
       "    .dataframe tbody tr th {\n",
       "        vertical-align: top;\n",
       "    }\n",
       "\n",
       "    .dataframe thead th {\n",
       "        text-align: right;\n",
       "    }\n",
       "</style>\n",
       "<table border=\"1\" class=\"dataframe\">\n",
       "  <thead>\n",
       "    <tr style=\"text-align: right;\">\n",
       "      <th></th>\n",
       "      <th>0</th>\n",
       "      <th>1</th>\n",
       "      <th>2</th>\n",
       "      <th>3</th>\n",
       "      <th>4</th>\n",
       "      <th>5</th>\n",
       "      <th>6</th>\n",
       "      <th>7</th>\n",
       "      <th>8</th>\n",
       "      <th>9</th>\n",
       "      <th>...</th>\n",
       "      <th>490</th>\n",
       "      <th>491</th>\n",
       "      <th>492</th>\n",
       "      <th>493</th>\n",
       "      <th>494</th>\n",
       "      <th>495</th>\n",
       "      <th>496</th>\n",
       "      <th>497</th>\n",
       "      <th>498</th>\n",
       "      <th>499</th>\n",
       "    </tr>\n",
       "  </thead>\n",
       "  <tbody>\n",
       "    <tr>\n",
       "      <th>0</th>\n",
       "      <td>1.000000</td>\n",
       "      <td>1.000000</td>\n",
       "      <td>1.000000</td>\n",
       "      <td>1.000000</td>\n",
       "      <td>1.000000</td>\n",
       "      <td>1.000000</td>\n",
       "      <td>1.000000</td>\n",
       "      <td>1.000000</td>\n",
       "      <td>1.000000</td>\n",
       "      <td>1.000000</td>\n",
       "      <td>...</td>\n",
       "      <td>1.000000</td>\n",
       "      <td>1.000000</td>\n",
       "      <td>1.000000</td>\n",
       "      <td>1.000000</td>\n",
       "      <td>1.000000</td>\n",
       "      <td>1.000000</td>\n",
       "      <td>1.000000</td>\n",
       "      <td>1.000000</td>\n",
       "      <td>1.000000</td>\n",
       "      <td>1.000000</td>\n",
       "    </tr>\n",
       "    <tr>\n",
       "      <th>1</th>\n",
       "      <td>1.001924</td>\n",
       "      <td>0.997505</td>\n",
       "      <td>0.995700</td>\n",
       "      <td>1.000705</td>\n",
       "      <td>1.005416</td>\n",
       "      <td>1.003571</td>\n",
       "      <td>1.005572</td>\n",
       "      <td>0.999815</td>\n",
       "      <td>1.001367</td>\n",
       "      <td>0.998857</td>\n",
       "      <td>...</td>\n",
       "      <td>1.001749</td>\n",
       "      <td>0.996288</td>\n",
       "      <td>1.004930</td>\n",
       "      <td>1.000495</td>\n",
       "      <td>0.998097</td>\n",
       "      <td>1.002516</td>\n",
       "      <td>0.997957</td>\n",
       "      <td>0.997280</td>\n",
       "      <td>1.001753</td>\n",
       "      <td>0.997615</td>\n",
       "    </tr>\n",
       "    <tr>\n",
       "      <th>2</th>\n",
       "      <td>1.006411</td>\n",
       "      <td>1.000684</td>\n",
       "      <td>0.996078</td>\n",
       "      <td>0.998851</td>\n",
       "      <td>1.007231</td>\n",
       "      <td>0.997945</td>\n",
       "      <td>1.001722</td>\n",
       "      <td>0.992297</td>\n",
       "      <td>1.000858</td>\n",
       "      <td>1.003898</td>\n",
       "      <td>...</td>\n",
       "      <td>1.003733</td>\n",
       "      <td>1.001281</td>\n",
       "      <td>1.007210</td>\n",
       "      <td>1.002168</td>\n",
       "      <td>0.999241</td>\n",
       "      <td>0.998881</td>\n",
       "      <td>0.997915</td>\n",
       "      <td>0.997455</td>\n",
       "      <td>1.001487</td>\n",
       "      <td>1.000715</td>\n",
       "    </tr>\n",
       "    <tr>\n",
       "      <th>3</th>\n",
       "      <td>1.005926</td>\n",
       "      <td>1.000743</td>\n",
       "      <td>0.998432</td>\n",
       "      <td>0.995538</td>\n",
       "      <td>1.006644</td>\n",
       "      <td>0.998970</td>\n",
       "      <td>1.004883</td>\n",
       "      <td>0.987721</td>\n",
       "      <td>1.000825</td>\n",
       "      <td>1.010425</td>\n",
       "      <td>...</td>\n",
       "      <td>1.004013</td>\n",
       "      <td>1.002157</td>\n",
       "      <td>1.010372</td>\n",
       "      <td>1.003880</td>\n",
       "      <td>0.994553</td>\n",
       "      <td>0.998616</td>\n",
       "      <td>1.001211</td>\n",
       "      <td>1.000151</td>\n",
       "      <td>1.004101</td>\n",
       "      <td>1.000766</td>\n",
       "    </tr>\n",
       "    <tr>\n",
       "      <th>4</th>\n",
       "      <td>1.012409</td>\n",
       "      <td>1.003035</td>\n",
       "      <td>0.997002</td>\n",
       "      <td>0.999986</td>\n",
       "      <td>1.008601</td>\n",
       "      <td>0.996445</td>\n",
       "      <td>1.004989</td>\n",
       "      <td>0.985181</td>\n",
       "      <td>1.006183</td>\n",
       "      <td>1.004915</td>\n",
       "      <td>...</td>\n",
       "      <td>1.004917</td>\n",
       "      <td>1.001715</td>\n",
       "      <td>1.009675</td>\n",
       "      <td>1.006305</td>\n",
       "      <td>0.998787</td>\n",
       "      <td>0.996727</td>\n",
       "      <td>0.997377</td>\n",
       "      <td>1.001179</td>\n",
       "      <td>1.006803</td>\n",
       "      <td>1.003199</td>\n",
       "    </tr>\n",
       "  </tbody>\n",
       "</table>\n",
       "<p>5 rows × 500 columns</p>\n",
       "</div>"
      ],
      "text/plain": [
       "        0         1         2         3         4         5         6    \\\n",
       "0  1.000000  1.000000  1.000000  1.000000  1.000000  1.000000  1.000000   \n",
       "1  1.001924  0.997505  0.995700  1.000705  1.005416  1.003571  1.005572   \n",
       "2  1.006411  1.000684  0.996078  0.998851  1.007231  0.997945  1.001722   \n",
       "3  1.005926  1.000743  0.998432  0.995538  1.006644  0.998970  1.004883   \n",
       "4  1.012409  1.003035  0.997002  0.999986  1.008601  0.996445  1.004989   \n",
       "\n",
       "        7         8         9      ...          490       491       492  \\\n",
       "0  1.000000  1.000000  1.000000    ...     1.000000  1.000000  1.000000   \n",
       "1  0.999815  1.001367  0.998857    ...     1.001749  0.996288  1.004930   \n",
       "2  0.992297  1.000858  1.003898    ...     1.003733  1.001281  1.007210   \n",
       "3  0.987721  1.000825  1.010425    ...     1.004013  1.002157  1.010372   \n",
       "4  0.985181  1.006183  1.004915    ...     1.004917  1.001715  1.009675   \n",
       "\n",
       "        493       494       495       496       497       498       499  \n",
       "0  1.000000  1.000000  1.000000  1.000000  1.000000  1.000000  1.000000  \n",
       "1  1.000495  0.998097  1.002516  0.997957  0.997280  1.001753  0.997615  \n",
       "2  1.002168  0.999241  0.998881  0.997915  0.997455  1.001487  1.000715  \n",
       "3  1.003880  0.994553  0.998616  1.001211  1.000151  1.004101  1.000766  \n",
       "4  1.006305  0.998787  0.996727  0.997377  1.001179  1.006803  1.003199  \n",
       "\n",
       "[5 rows x 500 columns]"
      ]
     },
     "execution_count": 14,
     "metadata": {},
     "output_type": "execute_result"
    }
   ],
   "source": [
    "# Check that the simulation ran successfully\n",
    "portfolio_cumulative_returns.head()"
   ]
  },
  {
   "cell_type": "code",
   "execution_count": 15,
   "metadata": {},
   "outputs": [
    {
     "data": {
      "text/plain": [
       "<matplotlib.axes._subplots.AxesSubplot at 0x7f90a0533110>"
      ]
     },
     "execution_count": 15,
     "metadata": {},
     "output_type": "execute_result"
    },
    {
     "data": {
      "image/png": "[encoded data removed]",
      "text/plain": [
       "<Figure size 432x288 with 1 Axes>"
      ]
     },
     "metadata": {
      "needs_background": "light"
     },
     "output_type": "display_data"
    }
   ],
   "source": [
    "# Visualize the Simulation\n",
    "plot_title = f\"{n+1} Simulations of Cumulative Portfolio Return Trajectories Over the Next 30 Years\"\n",
    "portfolio_cumulative_returns.plot(legend=None, title=plot_title)"
   ]
  },
  {
   "cell_type": "code",
   "execution_count": 27,
   "metadata": {
    "scrolled": true
   },
   "outputs": [
    {
     "data": {
      "text/plain": [
       "0       63.797071\n",
       "1       55.436929\n",
       "2       68.111555\n",
       "3       67.712711\n",
       "4       66.032144\n",
       "5       65.408500\n",
       "6       58.953260\n",
       "7       88.166348\n",
       "8       67.588066\n",
       "9       68.887380\n",
       "10      43.608246\n",
       "11      96.591540\n",
       "12      52.163591\n",
       "13      38.702798\n",
       "14      58.766166\n",
       "15      51.814541\n",
       "16      44.239001\n",
       "17      52.660175\n",
       "18     105.756540\n",
       "19      49.379916\n",
       "20      24.719835\n",
       "21      76.421248\n",
       "22      47.551214\n",
       "23      80.190799\n",
       "24      68.245131\n",
       "25      88.994045\n",
       "26      34.217554\n",
       "27      45.910933\n",
       "28      58.293079\n",
       "29      50.562370\n",
       "          ...    \n",
       "470     50.382153\n",
       "471     45.642490\n",
       "472     50.182663\n",
       "473     42.359872\n",
       "474     47.530478\n",
       "475     57.651346\n",
       "476     40.640031\n",
       "477     58.204103\n",
       "478     48.682430\n",
       "479     82.702149\n",
       "480     59.802400\n",
       "481     57.639197\n",
       "482     34.975111\n",
       "483     60.154736\n",
       "484     44.232416\n",
       "485     62.860663\n",
       "486     76.830943\n",
       "487     59.234688\n",
       "488     52.907576\n",
       "489     46.138907\n",
       "490     32.336549\n",
       "491     72.312955\n",
       "492     50.222883\n",
       "493     64.992550\n",
       "494     78.183501\n",
       "495     93.121903\n",
       "496     37.049093\n",
       "497     70.708283\n",
       "498     86.723937\n",
       "499     38.678196\n",
       "Name: 7560, Length: 500, dtype: float64"
      ]
     },
     "execution_count": 27,
     "metadata": {},
     "output_type": "execute_result"
    }
   ],
   "source": [
    "# Select the last row for the cumulative returns (cumulative returns at 30 years)\n",
    "ending_cumulative_returns = portfolio_cumulative_returns.iloc[-1, :]\n",
    "ending_cumulative_returns"
   ]
  },
  {
   "cell_type": "code",
   "execution_count": 35,
   "metadata": {},
   "outputs": [
    {
     "data": {
      "text/plain": [
       "60.20306795824819"
      ]
     },
     "execution_count": 35,
     "metadata": {},
     "output_type": "execute_result"
    }
   ],
   "source": [
    "ending_cumulative_returns.mean()"
   ]
  },
  {
   "cell_type": "markdown",
   "metadata": {},
   "source": [
    "### Plot the Frequency Distribution of Simulated Ending Portfolio Cumulative Returns on the Last Trading Day"
   ]
  },
  {
   "cell_type": "code",
   "execution_count": 17,
   "metadata": {},
   "outputs": [
    {
     "data": {
      "text/plain": [
       "<matplotlib.axes._subplots.AxesSubplot at 0x7f90819c83d0>"
      ]
     },
     "execution_count": 17,
     "metadata": {},
     "output_type": "execute_result"
    },
    {
     "data": {
      "image/png": "[encoded data removed]",
      "text/plain": [
       "<Figure size 432x288 with 1 Axes>"
      ]
     },
     "metadata": {
      "needs_background": "light"
     },
     "output_type": "display_data"
    }
   ],
   "source": [
    "# Use the `plot` function to plot a frequency distribution of simulated ending prices\n",
    "ending_cumulative_returns.plot(kind='hist', bins=10)"
   ]
  },
  {
   "cell_type": "markdown",
   "metadata": {},
   "source": [
    "### Calculate the Probability Distribution of Ending Cumulative Return Ranges"
   ]
  },
  {
   "cell_type": "code",
   "execution_count": 18,
   "metadata": {},
   "outputs": [
    {
     "data": {
      "text/plain": [
       "(52.233, 62.833]      0.266\n",
       "(41.633, 52.233]      0.242\n",
       "(62.833, 73.433]      0.196\n",
       "(73.433, 84.033]      0.100\n",
       "(31.033, 41.633]      0.074\n",
       "(84.033, 94.633]      0.054\n",
       "(20.326, 31.033]      0.030\n",
       "(94.633, 105.233]     0.018\n",
       "(105.233, 115.833]    0.014\n",
       "(115.833, 126.433]    0.006\n",
       "Name: 7560, dtype: float64"
      ]
     },
     "execution_count": 18,
     "metadata": {},
     "output_type": "execute_result"
    }
   ],
   "source": [
    "# Use the `value_counts` function and the `len` function to calculate the probabilities of cumulative return ranges\n",
    "ending_cumulative_returns.value_counts(bins=10) / len(ending_cumulative_returns)"
   ]
  },
  {
   "cell_type": "markdown",
   "metadata": {},
   "source": [
    "### Calculate Lower and Upper Bounds of 90% Confidence Interval for Simulated Ending Cumulative Portfolio Returns"
   ]
  },
  {
   "cell_type": "code",
   "execution_count": 19,
   "metadata": {},
   "outputs": [],
   "source": [
    "# Use the `quantile` function to calculate the 90% confidence interval for simulated ending prices\n",
    "confidence_interval = ending_cumulative_returns.quantile(q=[0.05, 0.95])"
   ]
  },
  {
   "cell_type": "code",
   "execution_count": 20,
   "metadata": {},
   "outputs": [
    {
     "data": {
      "text/plain": [
       "0.05    34.496951\n",
       "0.95    92.235803\n",
       "Name: 7560, dtype: float64"
      ]
     },
     "execution_count": 20,
     "metadata": {},
     "output_type": "execute_result"
    }
   ],
   "source": [
    "# Display the 90% confidence interval for the ending returns\n",
    "confidence_interval"
   ]
  },
  {
   "cell_type": "code",
   "execution_count": 23,
   "metadata": {},
   "outputs": [
    {
     "data": {
      "text/plain": [
       "<matplotlib.lines.Line2D at 0x7f90913f6e90>"
      ]
     },
     "execution_count": 23,
     "metadata": {},
     "output_type": "execute_result"
    },
    {
     "data": {
      "image/png": "[encoded data removed]",
      "text/plain": [
       "<Figure size 432x288 with 1 Axes>"
      ]
     },
     "metadata": {
      "needs_background": "light"
     },
     "output_type": "display_data"
    }
   ],
   "source": [
    "# Visualize the distribution of the ending returns\n",
    "\n",
    "# Use the `plot` function to create a probability distribution histogram of simulated ending prices\n",
    "# with markings for a 90% confidence interval\n",
    "plt.figure();\n",
    "ending_cumulative_returns.plot(kind='hist', density=True, bins=50)\n",
    "plt.axvline(confidence_interval.iloc[0], color='r')\n",
    "plt.axvline(confidence_interval.iloc[1], color='r')"
   ]
  },
  {
   "cell_type": "markdown",
   "metadata": {},
   "source": [
    "---"
   ]
  },
  {
   "cell_type": "markdown",
   "metadata": {},
   "source": [
    "## Retirement Analysis\n",
    "\n",
    "In this section, you will use the monte carlo model to answer the following retirement planning questions:\n",
    "\n",
    "1. What are the expected cumulative returns at `30` years for the `10th`, `50th`, and `90th` percentiles?\n",
    "\n",
    "2. Given an initial investment of `$20,000`, what is the expected return in dollars at the `10th`, `50th`, and `90th` percentiles?\n",
    "\n",
    "3. Given the current projected annual income from the Plaid analysis, will a `4%` withdrawal rate meet or exceed that value at the `10th` percentile? Note: This is basically determining if retirement income is equivalent to current income.\n",
    "\n",
    "4. How would a `50%` increase in the initial investment amount affect the `4%` retirement withdrawal? In other words, what happens if the initial investment had been bigger?"
   ]
  },
  {
   "cell_type": "markdown",
   "metadata": {},
   "source": [
    "### What are the expected cumulative returns at 30 years for the 10th, 50th, and 90th percentiles?"
   ]
  },
  {
   "cell_type": "code",
   "execution_count": 24,
   "metadata": {
    "scrolled": true
   },
   "outputs": [
    {
     "name": "stdout",
     "output_type": "stream",
     "text": [
      "0       63.797071\n",
      "1       55.436929\n",
      "2       68.111555\n",
      "3       67.712711\n",
      "4       66.032144\n",
      "5       65.408500\n",
      "6       58.953260\n",
      "7       88.166348\n",
      "8       67.588066\n",
      "9       68.887380\n",
      "10      43.608246\n",
      "11      96.591540\n",
      "12      52.163591\n",
      "13      38.702798\n",
      "14      58.766166\n",
      "15      51.814541\n",
      "16      44.239001\n",
      "17      52.660175\n",
      "18     105.756540\n",
      "19      49.379916\n",
      "20      24.719835\n",
      "21      76.421248\n",
      "22      47.551214\n",
      "23      80.190799\n",
      "24      68.245131\n",
      "25      88.994045\n",
      "26      34.217554\n",
      "27      45.910933\n",
      "28      58.293079\n",
      "29      50.562370\n",
      "          ...    \n",
      "470     50.382153\n",
      "471     45.642490\n",
      "472     50.182663\n",
      "473     42.359872\n",
      "474     47.530478\n",
      "475     57.651346\n",
      "476     40.640031\n",
      "477     58.204103\n",
      "478     48.682430\n",
      "479     82.702149\n",
      "480     59.802400\n",
      "481     57.639197\n",
      "482     34.975111\n",
      "483     60.154736\n",
      "484     44.232416\n",
      "485     62.860663\n",
      "486     76.830943\n",
      "487     59.234688\n",
      "488     52.907576\n",
      "489     46.138907\n",
      "490     32.336549\n",
      "491     72.312955\n",
      "492     50.222883\n",
      "493     64.992550\n",
      "494     78.183501\n",
      "495     93.121903\n",
      "496     37.049093\n",
      "497     70.708283\n",
      "498     86.723937\n",
      "499     38.678196\n",
      "Name: 7560, Length: 500, dtype: float64\n"
     ]
    }
   ],
   "source": [
    "# Compute cumulative returns\n",
    "print(ending_cumulative_returns)"
   ]
  },
  {
   "cell_type": "code",
   "execution_count": 36,
   "metadata": {},
   "outputs": [
    {
     "name": "stdout",
     "output_type": "stream",
     "text": [
      "The expected cumulative return for the 10th percentile is 41.26.\n",
      "The expected cumulative return for the 50th percentile is 57.74.\n",
      "The expected cumulative return for the 90th percentile is 82.33.\n"
     ]
    }
   ],
   "source": [
    "percentile10 = np.percentile(ending_cumulative_returns, 10)\n",
    "percentile50 = np.percentile(ending_cumulative_returns, 50)\n",
    "percentile90 = np.percentile(ending_cumulative_returns, 90)\n",
    "print(f\"The expected cumulative return for the 10th percentile is {percentile10:,.2f}.\")\n",
    "print(f\"The expected cumulative return for the 50th percentile is {percentile50:,.2f}.\")\n",
    "print(f\"The expected cumulative return for the 90th percentile is {percentile90:,.2f}.\")"
   ]
  },
  {
   "cell_type": "markdown",
   "metadata": {},
   "source": [
    "### Given an initial investment of `$20,000`, what is the expected portfolio return in dollars at the 10th, 50th, and 90th percentiles?"
   ]
  },
  {
   "cell_type": "code",
   "execution_count": 30,
   "metadata": {},
   "outputs": [
    {
     "name": "stdout",
     "output_type": "stream",
     "text": [
      "The expected portfolio return for the 10th percentile is $825,232.57.\n",
      "The expected portfolio return for the 50th percentile is $1,154,758.94.\n",
      "The expected portfolio return for the 90th percentile is $1,646,564.34.\n"
     ]
    }
   ],
   "source": [
    "# Set initial investment\n",
    "initial_investment = 20000\n",
    "\n",
    "# Compute expected portfolio return\n",
    "\n",
    "# Calculate investment profit/loss of lower and upper bound cumulative portfolio returns\n",
    "investment_pnl_lower_bound = initial_investment * percentile10\n",
    "investment_pnl_middle_bound = initial_investment * percentile50\n",
    "investment_pnl_upper_bound = initial_investment * percentile90\n",
    "                                                    \n",
    "# Print the results\n",
    "print(f\"The expected portfolio return for the 10th percentile is ${investment_pnl_lower_bound:,.2f}.\")\n",
    "print(f\"The expected portfolio return for the 50th percentile is ${investment_pnl_middle_bound:,.2f}.\")\n",
    "print(f\"The expected portfolio return for the 90th percentile is ${investment_pnl_upper_bound:,.2f}.\")"
   ]
  },
  {
   "cell_type": "markdown",
   "metadata": {},
   "source": [
    "### Given the current projected annual income from the Plaid analysis, will a 4% withdraw rate from the retirement portfolio meet or exceed that value at the 10th percentile?\n",
    "\n",
    "Note: This is effectively saying that 90% of the expected returns will be greater than the return at the 10th percentile, so this can help measure the uncertainty about having enough funds at retirement"
   ]
  },
  {
   "cell_type": "code",
   "execution_count": 31,
   "metadata": {},
   "outputs": [
    {
     "name": "stdout",
     "output_type": "stream",
     "text": [
      "You will have $33,009.30 in retirement income which is sufficient.\n"
     ]
    }
   ],
   "source": [
    "# Set Plaid's projected income\n",
    "plaid_projected_annual_income =  7389\n",
    "\n",
    "# Calculate the 4% withdrawal for the ending return as retirement income\n",
    "retirement_income = .04 * (initial_investment * percentile10)\n",
    "\n",
    "# Determine if the retirement income meets or exceeds the current projected income\n",
    "if retirement_income >= plaid_projected_annual_income:\n",
    "    print(f\"You will have ${retirement_income:,.2f} in retirement income which is sufficient.\")\n",
    "else:\n",
    "    print(f\"You will have ${retirement_income:,.2f} in retirement income which is not sufficient.\")"
   ]
  },
  {
   "cell_type": "markdown",
   "metadata": {},
   "source": [
    "### How would a 50% increase in the initial investment amount affect the 4% retirement withdrawal?"
   ]
  },
  {
   "cell_type": "code",
   "execution_count": 32,
   "metadata": {},
   "outputs": [
    {
     "name": "stdout",
     "output_type": "stream",
     "text": [
      "You will have $49,513.95 in retirement income which is sufficient.\n"
     ]
    }
   ],
   "source": [
    "# Re-calculate the retirement income with a 50% increase in the initial investment amount\n",
    "plaid_projected_annual_income =  7389\n",
    "\n",
    "# Calculate the 4% withdrawal for the ending return as retirement income\n",
    "retirement_income = .04 * (initial_investment* 1.5 * percentile10)\n",
    "\n",
    "# Determine if the retirement income meets or exceeds the current projected income\n",
    "if retirement_income >= plaid_projected_annual_income:\n",
    "    print(f\"You will have ${retirement_income:,.2f} in retirement income which is sufficient.\")\n",
    "else:\n",
    "    print(f\"You will have ${retirement_income:,.2f} in retirement income which is not sufficient.\")"
   ]
  },
  {
   "cell_type": "markdown",
   "metadata": {},
   "source": [
    "### Optional Challenge\n",
    "\n",
    "Use the Monte Carlo data and calculate the cumulative returns at the `5%`, `50%`, and `95%` quartiles and plot this data as a line chart to see how the cumulative returns change over the life of the investment.\n",
    "\n",
    "In this section, you need to calculate and plot the cumulative returns for the median and `90%` confidence intervals. This plot shows the expected cumulative returns for any given day between the first day and the last day of investment. "
   ]
  },
  {
   "cell_type": "code",
   "execution_count": null,
   "metadata": {},
   "outputs": [],
   "source": [
    "# Compute projected returns\n",
    "\n",
    "# Display sample data\n"
   ]
  },
  {
   "cell_type": "code",
   "execution_count": null,
   "metadata": {},
   "outputs": [],
   "source": [
    "# Plot the cumulative returns over time\n"
   ]
  },
  {
   "cell_type": "code",
   "execution_count": null,
   "metadata": {},
   "outputs": [],
   "source": [
    "# Compute portfolio performance over time\n",
    "\n",
    "# Plot projected performance over time\n"
   ]
  }
 ],
 "metadata": {
  "kernelspec": {
   "display_name": "Python 3",
   "language": "python",
   "name": "python3"
  },
  "language_info": {
   "codemirror_mode": {
    "name": "ipython",
    "version": 3
   },
   "file_extension": ".py",
   "mimetype": "text/x-python",
   "name": "python",
   "nbconvert_exporter": "python",
   "pygments_lexer": "ipython3",
   "version": "3.7.7"
  }
 },
 "nbformat": 4,
 "nbformat_minor": 4
}
